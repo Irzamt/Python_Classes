{
 "cells": [
  {
   "cell_type": "markdown",
   "metadata": {},
   "source": [
    "# Function\n",
    "* pre-defined Functions\n",
    "    * provided in langauage\n",
    "* user-defined Functions\n",
    "    * custom function\n",
    "## Similar properties on both types\n",
    "* Retrun and Non-Retun Function\n",
    "    * return\n",
    "        * we can assign this function output in any variable\n",
    "    * Non-Return\n",
    "        * only we can't assign value to variable\n",
    "\n",
    "## components\n",
    "* function declaration\n",
    "* function body\n",
    "* function calling\n",
    "\n",
    "### Syntax function\n",
    "```\n",
    "def function_name(param1:type, param2:type,....)->Return_type: \n",
    "    function_body\n",
    "\n",
    "function_name(arg1,arg2)\n",
    "```\n",
    "\n",
    "### Syntax lambda function\n",
    "* one line function\n",
    "* without name\n",
    "* only use in this line \n",
    "```\n",
    "lambda param1, param2 :  function_body\n",
    "```"
   ]
  },
  {
   "cell_type": "markdown",
   "metadata": {},
   "source": [
    "# Pre-define function\n",
    "* print\n",
    "* len\n",
    "* id\n",
    "* dir\n",
    "* chr\n",
    "* ord\n",
    "* exec"
   ]
  },
  {
   "cell_type": "markdown",
   "metadata": {},
   "source": [
    "# Return and Non-return function"
   ]
  },
  {
   "cell_type": "code",
   "execution_count": 1,
   "metadata": {},
   "outputs": [
    {
     "name": "stdout",
     "output_type": "stream",
     "text": [
      "pakistan\n"
     ]
    },
    {
     "data": {
      "text/plain": [
       "None"
      ]
     },
     "metadata": {},
     "output_type": "display_data"
    }
   ],
   "source": [
    "# variable.method_name()\n",
    "a: str = print(\"pakistan\")  # a = \"Pakistan\" | None\n",
    "\n",
    "display(a)"
   ]
  },
  {
   "cell_type": "code",
   "execution_count": 2,
   "metadata": {},
   "outputs": [
    {
     "data": {
      "text/plain": [
       "8"
      ]
     },
     "metadata": {},
     "output_type": "display_data"
    }
   ],
   "source": [
    "a : int = len(\"Pakistan\") # a = 8 Return\n",
    "\n",
    "display(a)"
   ]
  },
  {
   "cell_type": "code",
   "execution_count": null,
   "metadata": {},
   "outputs": [],
   "source": [
    "print(\"aa\")\n",
    "print(len('aaa'))"
   ]
  },
  {
   "cell_type": "markdown",
   "metadata": {},
   "source": [
    "# components\n",
    "*   function declaration\n",
    "        * function name\n",
    "        * Parameters\n",
    "            * param : type\n",
    "        * return output type\n",
    "* function body\n",
    "        * any businuess logic write here\n",
    "* function calling\n",
    "        * function(arg1,arg2)\n",
    "## Syntax function\n",
    "```def function_name(param1:type, param2:type,...)->Return_type: # declaration\n",
    "        function_body # body\n",
    "\n",
    "function_name(arg1,arg2) # calling```"
   ]
  },
  {
   "cell_type": "markdown",
   "metadata": {},
   "source": [
    "### Create simple function without any argument (defualt function)"
   ]
  },
  {
   "cell_type": "code",
   "execution_count": null,
   "metadata": {},
   "outputs": [],
   "source": [
    "def piaic()->None: # declaration/function signature\n",
    "    # function body start\n",
    "    print(\"PIAIC Generative Artificial Intelligence\") # statment1\n",
    "    print(\"Python Crash course\") # statment2\n",
    "    # function body end\n",
    "\n",
    "\n",
    "piaic() # calling"
   ]
  },
  {
   "cell_type": "code",
   "execution_count": null,
   "metadata": {},
   "outputs": [],
   "source": [
    "piaic()\n",
    "piaic()"
   ]
  },
  {
   "cell_type": "markdown",
   "metadata": {},
   "source": [
    "# Required parameter functions"
   ]
  },
  {
   "cell_type": "code",
   "execution_count": 5,
   "metadata": {},
   "outputs": [
    {
     "data": {
      "text/plain": [
       "27"
      ]
     },
     "execution_count": 5,
     "metadata": {},
     "output_type": "execute_result"
    }
   ],
   "source": [
    "#                   param1       param2\n",
    "def add_two_numbers(num1 : int , num2 : int)->int:\n",
    "    return num1 + num2\n",
    "\n",
    "add_two_numbers(7,20)# agr1, arg2"
   ]
  },
  {
   "cell_type": "code",
   "execution_count": 10,
   "metadata": {},
   "outputs": [
    {
     "name": "stdout",
     "output_type": "stream",
     "text": [
      "num1 value 20 and num 2 value 7\n"
     ]
    },
    {
     "data": {
      "text/plain": [
       "27"
      ]
     },
     "execution_count": 10,
     "metadata": {},
     "output_type": "execute_result"
    }
   ],
   "source": [
    "#                   param1       param2\n",
    "def add_two_numbers(num1 : int , num2 : int)->int:\n",
    "    print(f\"num1 value {num1} and num 2 value {num2}\")\n",
    "    return num1 + num2\n",
    "\n",
    "add_two_numbers(num2=7,num1=20)# agr1, arg2 key word arguments"
   ]
  },
  {
   "cell_type": "code",
   "execution_count": 6,
   "metadata": {},
   "outputs": [
    {
     "ename": "TypeError",
     "evalue": "add_two_numbers() missing 1 required positional argument: 'num2'",
     "output_type": "error",
     "traceback": [
      "\u001b[1;31m---------------------------------------------------------------------------\u001b[0m",
      "\u001b[1;31mTypeError\u001b[0m                                 Traceback (most recent call last)",
      "\u001b[1;32mc:\\Users\\Irzam\\OneDrive\\Desktop\\PANAVERSE\\Python\\Classes\\class_10_Functions\\class_10.ipynb Cell 13\u001b[0m line \u001b[0;36m1\n\u001b[1;32m----> <a href='vscode-notebook-cell:/c%3A/Users/Irzam/OneDrive/Desktop/PANAVERSE/Python/Classes/class_10_Functions/class_10.ipynb#X30sZmlsZQ%3D%3D?line=0'>1</a>\u001b[0m add_two_numbers(\u001b[39m7\u001b[39;49m)\n",
      "\u001b[1;31mTypeError\u001b[0m: add_two_numbers() missing 1 required positional argument: 'num2'"
     ]
    }
   ],
   "source": [
    "add_two_numbers(7)"
   ]
  },
  {
   "cell_type": "markdown",
   "metadata": {},
   "source": [
    "## function with optional parameters\n"
   ]
  },
  {
   "cell_type": "code",
   "execution_count": 9,
   "metadata": {},
   "outputs": [
    {
     "data": {
      "text/plain": [
       "12"
      ]
     },
     "execution_count": 9,
     "metadata": {},
     "output_type": "execute_result"
    }
   ],
   "source": [
    "def add_two_numbers(num1:int, num2:int = 8) -> int:\n",
    "    return num1 + num2\n",
    "\n",
    "add_two_numbers(7, 5)"
   ]
  },
  {
   "cell_type": "markdown",
   "metadata": {},
   "source": [
    "# Syntax lambda function\n",
    "* one line function\n",
    "* without name\n",
    "* only use in this line \n",
    "```\n",
    "lambda param1, param2 :  function_body"
   ]
  },
  {
   "cell_type": "code",
   "execution_count": 12,
   "metadata": {},
   "outputs": [
    {
     "data": {
      "text/plain": [
       "15"
      ]
     },
     "execution_count": 12,
     "metadata": {},
     "output_type": "execute_result"
    }
   ],
   "source": [
    "a = lambda num1, num2 : num1 + num2\n",
    "\n",
    "a(7, 8)"
   ]
  },
  {
   "cell_type": "code",
   "execution_count": 17,
   "metadata": {},
   "outputs": [
    {
     "name": "stdout",
     "output_type": "stream",
     "text": [
      "30\n"
     ]
    }
   ],
   "source": [
    "from typing import Callable\n",
    "\n",
    "add: Callable[[int, int], int] = lambda x, y: x + y\n",
    "result = add(10, 20)  # result will be 30\n",
    "print(result)"
   ]
  },
  {
   "cell_type": "code",
   "execution_count": 15,
   "metadata": {},
   "outputs": [
    {
     "data": {
      "text/plain": [
       "[1, 4, 9, 16, 25, 36, 49, 64, 81, 100]"
      ]
     },
     "execution_count": 15,
     "metadata": {},
     "output_type": "execute_result"
    }
   ],
   "source": [
    "data: list[int] = [1,2,3,4,5,6,7,8,9,10]\n",
    "\n",
    "data = list(map(lambda x:x**2, data))\n",
    "\n",
    "data"
   ]
  },
  {
   "cell_type": "code",
   "execution_count": 16,
   "metadata": {},
   "outputs": [
    {
     "data": {
      "text/plain": [
       "[2, 4, 6, 8, 10]"
      ]
     },
     "execution_count": 16,
     "metadata": {},
     "output_type": "execute_result"
    }
   ],
   "source": [
    "data: list[int] = [1,2,3,4,5,6,7,8,9,10]\n",
    "\n",
    "data = list(filter(lambda x:x%2==0, data))\n",
    "\n",
    "data"
   ]
  },
  {
   "cell_type": "markdown",
   "metadata": {},
   "source": [
    "## Generator Function\n",
    "* iteratte on element one by one\n",
    "* stop after each iteration\n",
    "* remember old iteration value (last iterate value)\n",
    "* next iterate\n",
    "     * go forward from next iterate value"
   ]
  },
  {
   "cell_type": "code",
   "execution_count": 19,
   "metadata": {},
   "outputs": [
    {
     "name": "stdout",
     "output_type": "stream",
     "text": [
      "<generator object my_range at 0x000001E963A77D30>\n",
      "[1, 2, 3, 4, 5, 6, 7, 8, 9, 10]\n"
     ]
    }
   ],
   "source": [
    "## Generator Function\n",
    "def my_range(start:int, end:int, step: int=1):\n",
    "    for i in range(start,end+1,step):\n",
    "        yield i # Generator Function\n",
    "\n",
    "a = my_range(1,10)\n",
    "print(a)\n",
    "print(list(a))"
   ]
  },
  {
   "cell_type": "code",
   "execution_count": 21,
   "metadata": {},
   "outputs": [
    {
     "name": "stdout",
     "output_type": "stream",
     "text": [
      "<generator object my_range at 0x000001E963A76F20>\n",
      "1\n",
      "2\n",
      "3\n",
      "pakistan\n",
      "4\n"
     ]
    }
   ],
   "source": [
    "a = my_range(1,10)\n",
    "print(a)\n",
    "print(next(a))\n",
    "print(next(a))\n",
    "print(next(a))\n",
    "print(\"pakistan\")\n",
    "print(next(a))"
   ]
  },
  {
   "cell_type": "code",
   "execution_count": 22,
   "metadata": {},
   "outputs": [],
   "source": [
    "from collections.abc import Iterator\n",
    "\n",
    "MyDictT = dict[str, object]  # for example\n",
    "\n",
    "def yield_func() -> Iterator[MyDictT]:\n",
    "    a: MyDictT = {}\n",
    "    b: MyDictT = {}\n",
    "    ...\n",
    "    yield a\n",
    "    yield b"
   ]
  },
  {
   "cell_type": "code",
   "execution_count": 23,
   "metadata": {},
   "outputs": [
    {
     "name": "stdout",
     "output_type": "stream",
     "text": [
      "1\n",
      "2\n"
     ]
    }
   ],
   "source": [
    "from collections.abc import Iterator\n",
    "\n",
    "def my_range(start:int , end:int , step: int=1)->Iterator[int]:\n",
    "    for i in range(start,end+1,step):\n",
    "        yield i # Generator fucntion\n",
    "\n",
    "\n",
    "iterator_variable = my_range(1,10)\n",
    "\n",
    "print(next(iterator_variable))\n",
    "print(next(iterator_variable))"
   ]
  }
 ],
 "metadata": {
  "kernelspec": {
   "display_name": "python12",
   "language": "python",
   "name": "python3"
  },
  "language_info": {
   "codemirror_mode": {
    "name": "ipython",
    "version": 3
   },
   "file_extension": ".py",
   "mimetype": "text/x-python",
   "name": "python",
   "nbconvert_exporter": "python",
   "pygments_lexer": "ipython3",
   "version": "3.12.0"
  }
 },
 "nbformat": 4,
 "nbformat_minor": 2
}
