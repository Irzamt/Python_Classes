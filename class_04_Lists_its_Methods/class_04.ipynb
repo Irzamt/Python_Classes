{
 "cells": [
  {
   "cell_type": "code",
   "execution_count": 1,
   "metadata": {},
   "outputs": [],
   "source": [
    "name1: str = 'Qasim'\n",
    "name2: str = 'Sir Zia'\n",
    "name3: str = 'SIR Inam'"
   ]
  },
  {
   "cell_type": "markdown",
   "metadata": {},
   "source": [
    "# List\n",
    "* dynamic length\n",
    "* hetrogenous data types (Multiple type)\n",
    "* index\n",
    "    * postive 0 to n-1\n",
    "    * negative -1 to length\n",
    "* slicing\n",
    "    * variable names[start:end:step]\n",
    "    * start : int = include\n",
    "    * end : int = n-1\n",
    "    * step : int = sequance"
   ]
  },
  {
   "cell_type": "code",
   "execution_count": 3,
   "metadata": {},
   "outputs": [
    {
     "name": "stdout",
     "output_type": "stream",
     "text": [
      "Qasim\n",
      "Qasim\n",
      "Sir Zia\n"
     ]
    }
   ],
   "source": [
    "# old way\n",
    "# ->        0          1       2\n",
    "names = [\"Qasim\",\"Sir Zia\",\"Sir Inam\"] # length-1 \n",
    "# <-        -3       -2        -1\n",
    "\n",
    "print(names[0])     # Qasim\n",
    "print(names[-3])    # Qasim\n",
    "\n",
    "print(names[-2])    # Sir Zia"
   ]
  }
 ],
 "metadata": {
  "kernelspec": {
   "display_name": "python12",
   "language": "python",
   "name": "python3"
  },
  "language_info": {
   "codemirror_mode": {
    "name": "ipython",
    "version": 3
   },
   "file_extension": ".py",
   "mimetype": "text/x-python",
   "name": "python",
   "nbconvert_exporter": "python",
   "pygments_lexer": "ipython3",
   "version": "3.12.0"
  }
 },
 "nbformat": 4,
 "nbformat_minor": 2
}
