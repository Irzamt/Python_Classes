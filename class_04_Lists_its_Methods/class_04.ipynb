{
 "cells": [
  {
   "cell_type": "code",
   "execution_count": 1,
   "metadata": {},
   "outputs": [],
   "source": [
    "name1: str = 'Qasim'\n",
    "name2: str = 'Sir Zia'\n",
    "name3: str = 'SIR Inam'"
   ]
  },
  {
   "cell_type": "markdown",
   "metadata": {},
   "source": [
    "# List\n",
    "* dynamic length\n",
    "* hetrogenous data types (Multiple type)\n",
    "* index\n",
    "    * postive 0 to n-1\n",
    "    * negative -1 to length\n",
    "* slicing\n",
    "    * variable names[start : end : step]\n",
    "    * start : int = include\n",
    "    * end : int = n-1\n",
    "    * step : int = sequence"
   ]
  },
  {
   "cell_type": "code",
   "execution_count": 3,
   "metadata": {},
   "outputs": [
    {
     "name": "stdout",
     "output_type": "stream",
     "text": [
      "Qasim\n",
      "Qasim\n",
      "Sir Zia\n"
     ]
    }
   ],
   "source": [
    "# old way\n",
    "# ->        0          1       2\n",
    "names = [\"Qasim\",\"Sir Zia\",\"Sir Inam\"] # length-1 \n",
    "# <-        -3       -2        -1\n",
    "\n",
    "print(names[0])     # Qasim\n",
    "print(names[-3])    # Qasim\n",
    "\n",
    "print(names[-2])    # Sir Zia"
   ]
  },
  {
   "cell_type": "code",
   "execution_count": 7,
   "metadata": {},
   "outputs": [
    {
     "name": "stdout",
     "output_type": "stream",
     "text": [
      "<class 'list'>\n",
      "<class 'str'>\n",
      "Founder of PIAIC: SIR ZIA\n"
     ]
    }
   ],
   "source": [
    "from typing import Any\n",
    "\n",
    "# ->                   0        1         2\n",
    "names: list[Any] = [\"Qasim\",\"Sir Zia\",\"Sir Inam\"]\n",
    "# <-                   -3       -2        -1\n",
    "\n",
    "print(type(names))\n",
    "print(type(names[-2]))\n",
    "\n",
    "print(f'Founder of PIAIC: {names[-2].upper()}')"
   ]
  },
  {
   "cell_type": "code",
   "execution_count": null,
   "metadata": {},
   "outputs": [],
   "source": [
    "# ->                    0        1         2\n",
    "names : list[str] = [\"Qasim\",\"Sir Zia\", \"Sir Inam\", 20, True]\n",
    "# <-                    -3     -2          -1"
   ]
  },
  {
   "cell_type": "code",
   "execution_count": 9,
   "metadata": {},
   "outputs": [
    {
     "data": {
      "text/plain": [
       "'abcdef'"
      ]
     },
     "execution_count": 9,
     "metadata": {},
     "output_type": "execute_result"
    }
   ],
   "source": [
    "'abcdef'"
   ]
  },
  {
   "cell_type": "code",
   "execution_count": 10,
   "metadata": {},
   "outputs": [
    {
     "data": {
      "text/plain": [
       "['a', 'b', 'c', 'd', 'e', 'f']"
      ]
     },
     "execution_count": 10,
     "metadata": {},
     "output_type": "execute_result"
    }
   ],
   "source": [
    "list('abcdef')"
   ]
  },
  {
   "cell_type": "code",
   "execution_count": 11,
   "metadata": {},
   "outputs": [
    {
     "name": "stdout",
     "output_type": "stream",
     "text": [
      "['A', 'B', 'C', 'D', 'E', 'F', 'G', 'H', 'I', 'J', 'K', 'L', 'M', 'N', 'O', 'P', 'Q', 'R', 'S', 'T', 'U', 'V', 'W', 'X', 'Y', 'Z']\n"
     ]
    }
   ],
   "source": [
    "characters : list[str] = list(\"ABCDEFGHIJKLMNOPQRSTUVWXYZ\")\n",
    "print(characters)"
   ]
  },
  {
   "cell_type": "markdown",
   "metadata": {},
   "source": [
    "Slicing"
   ]
  },
  {
   "cell_type": "code",
   "execution_count": 26,
   "metadata": {},
   "outputs": [
    {
     "name": "stdout",
     "output_type": "stream",
     "text": [
      "['A', 'B']\n",
      "['A', 'B']\n",
      "['A', 'B']\n",
      "['A', 'B']\n",
      "['A', 'B']\n"
     ]
    }
   ],
   "source": [
    "#                          0    1    2                                                                                                                 25\n",
    "characters : list[str] = ['A', 'B', 'C', 'D', 'E', 'F', 'G', 'H', 'I', 'J', 'K', 'L', 'M', 'N', 'O', 'P', 'Q', 'R', 'S', 'T', 'U', 'V', 'W', 'X', 'Y', 'Z']\n",
    "#                         -26   -25  -24                                                                                                                -1\n",
    "\n",
    "# default slicing go from left to right\n",
    "\n",
    "print(characters[0:2]) # 0 = include : index 2 - 1 = 1\n",
    "print(characters[:2]) # not pass any number = all\n",
    "print(characters[-26:-24]) # 0 = include : index -24 - 1 = -25\n",
    "print(characters[0:2:1]) # 0 = include : index 2 - 1 = 1\n",
    "print(characters[0:2:1]) # 0 = include : index 2 - 1 = 1"
   ]
  },
  {
   "cell_type": "code",
   "execution_count": 19,
   "metadata": {},
   "outputs": [
    {
     "name": "stdout",
     "output_type": "stream",
     "text": [
      "['A', 'B', 'C', 'D', 'E', 'F', 'G', 'H', 'I', 'J', 'K', 'L', 'M', 'N', 'O', 'P', 'Q', 'R', 'S', 'T', 'U', 'V', 'W', 'X', 'Y', 'Z']\n",
      "['A', 'C', 'E', 'G', 'I', 'K', 'M', 'O', 'Q', 'S', 'U', 'W', 'Y']\n"
     ]
    }
   ],
   "source": [
    "characters : list[str] = ['A', 'B', 'C', 'D', 'E', 'F', 'G', 'H', 'I', 'J', 'K', 'L', 'M', 'N', 'O', 'P', 'Q', 'R', 'S', 'T', 'U', 'V', 'W', 'X', 'Y', 'Z']\n",
    "\n",
    "print(characters[::])\n",
    "print(characters[::2]) # ['A', 'C', 'E', 'G', 'I', 'K', 'M', 'O', 'Q', 'S', 'U', 'W', 'Y']"
   ]
  },
  {
   "cell_type": "code",
   "execution_count": 21,
   "metadata": {},
   "outputs": [
    {
     "name": "stdout",
     "output_type": "stream",
     "text": [
      "['B', 'C', 'D', 'E']\n"
     ]
    }
   ],
   "source": [
    "#                          0    1    2    3    4    5    6    7\n",
    "characters : list[str] = ['A', 'B', 'C', 'D', 'E', 'F', 'G', 'H']\n",
    "#                         -8   -7   -6   -5   -4   -3   -2   -1\n",
    "\n",
    "print(characters[1:-3]) # ['B', 'C', 'D', 'E']"
   ]
  },
  {
   "cell_type": "code",
   "execution_count": 23,
   "metadata": {},
   "outputs": [
    {
     "name": "stdout",
     "output_type": "stream",
     "text": [
      "[]\n"
     ]
    }
   ],
   "source": [
    "#                          0    1    2    3    4    5    6    7\n",
    "characters : list[str] = ['A', 'B', 'C', 'D', 'E', 'F', 'G', 'H']\n",
    "#                         -8   -7   -6   -5   -4   -3   -2   -1\n",
    "\n",
    "# iteration slicing ->\n",
    "# step -> positive\n",
    "# step <- negative\n",
    "print(characters[-2:-5])"
   ]
  },
  {
   "cell_type": "code",
   "execution_count": 24,
   "metadata": {},
   "outputs": [
    {
     "name": "stdout",
     "output_type": "stream",
     "text": [
      "['G', 'F', 'E']\n"
     ]
    }
   ],
   "source": [
    "#                          0    1    2    3    4    5    6    7\n",
    "characters : list[str] = ['A', 'B', 'C', 'D', 'E', 'F', 'G', 'H']\n",
    "#                         -8   -7   -6   -5   -4   -3   -2   -1\n",
    "\n",
    "# iteration slicing ->\n",
    "# step -> positive\n",
    "# step <- negative\n",
    "print(characters[-2:-5:-1])"
   ]
  },
  {
   "cell_type": "code",
   "execution_count": 20,
   "metadata": {},
   "outputs": [
    {
     "name": "stdout",
     "output_type": "stream",
     "text": [
      "['Z', 'Y', 'X', 'W', 'V', 'U', 'T', 'S', 'R', 'Q', 'P', 'O', 'N', 'M', 'L', 'K', 'J', 'I', 'H', 'G', 'F', 'E', 'D', 'C', 'B', 'A']\n"
     ]
    }
   ],
   "source": [
    "characters : list[str] = ['A', 'B', 'C', 'D', 'E', 'F', 'G', 'H', 'I', 'J', 'K', 'L', 'M', 'N', 'O', 'P', 'Q', 'R', 'S', 'T', 'U', 'V', 'W', 'X', 'Y', 'Z']\n",
    "\n",
    "print(characters[::-1])"
   ]
  },
  {
   "cell_type": "markdown",
   "metadata": {},
   "source": [
    "# List Methods"
   ]
  },
  {
   "cell_type": "code",
   "execution_count": 28,
   "metadata": {},
   "outputs": [
    {
     "name": "stdout",
     "output_type": "stream",
     "text": [
      "['Qasim', 'Sir Zia', 'Sir Inam', 20, True]\n",
      "['Irzam', 'Sir Zia', 'Sir Inam', 20, True]\n"
     ]
    }
   ],
   "source": [
    "# ->                    0        1         2        3     4\n",
    "names : list[Any] = [\"Qasim\",\"Sir Zia\", \"Sir Inam\", 20, True]\n",
    "# <-                    -3     -2          -1\n",
    "\n",
    "print(names)\n",
    "\n",
    "names[0] = \"Irzam\" # Mutable\n",
    "print(names)"
   ]
  },
  {
   "cell_type": "code",
   "execution_count": 30,
   "metadata": {},
   "outputs": [
    {
     "name": "stdout",
     "output_type": "stream",
     "text": [
      "['Qasim', 'Sir Zia', 'Sir Inam', 20, True]\n",
      "['Qasim', 'Sir Zia', 'Sir Inam', True]\n"
     ]
    }
   ],
   "source": [
    "# ->                    0        1         2        3     4\n",
    "names : list[Any] = [\"Qasim\",\"Sir Zia\", \"Sir Inam\", 20, True]\n",
    "# <-                    -3     -2          -1\n",
    "\n",
    "print(names)\n",
    "\n",
    "del names[3] # delete 3 index element\n",
    "\n",
    "print(names)"
   ]
  }
 ],
 "metadata": {
  "kernelspec": {
   "display_name": "python12",
   "language": "python",
   "name": "python3"
  },
  "language_info": {
   "codemirror_mode": {
    "name": "ipython",
    "version": 3
   },
   "file_extension": ".py",
   "mimetype": "text/x-python",
   "name": "python",
   "nbconvert_exporter": "python",
   "pygments_lexer": "ipython3",
   "version": "3.12.0"
  }
 },
 "nbformat": 4,
 "nbformat_minor": 2
}
