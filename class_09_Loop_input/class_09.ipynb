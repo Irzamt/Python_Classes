{
 "cells": [
  {
   "cell_type": "markdown",
   "metadata": {},
   "source": [
    "# Loop and input from user\n",
    "* while\n",
    "* for\n",
    "* controls\n",
    "    * break\n",
    "    * continue\n",
    "    * pass\n",
    "* input with input function\n",
    "* input from console\n",
    "\n",
    "# Loop working on iterative data types\n",
    "* list\n",
    "* dictionary\n",
    "* tuple\n",
    "* string"
   ]
  },
  {
   "cell_type": "code",
   "execution_count": 1,
   "metadata": {},
   "outputs": [
    {
     "name": "stdout",
     "output_type": "stream",
     "text": [
      "[1, 2, 3, 4, 5, 6]\n"
     ]
    }
   ],
   "source": [
    "l1: list[int] = [1,2,3,4,5,6]\n",
    "print(l1)"
   ]
  },
  {
   "cell_type": "code",
   "execution_count": 2,
   "metadata": {},
   "outputs": [
    {
     "name": "stdout",
     "output_type": "stream",
     "text": [
      "1\n",
      "2\n",
      "3\n",
      "4\n",
      "5\n",
      "6\n"
     ]
    }
   ],
   "source": [
    "l1: list[int] = [1,2,3,4,5,6]\n",
    "\n",
    "for n in l1:\n",
    "    print(n)"
   ]
  },
  {
   "cell_type": "code",
   "execution_count": 3,
   "metadata": {},
   "outputs": [
    {
     "name": "stdout",
     "output_type": "stream",
     "text": [
      "current # 1\n",
      "current # 2\n",
      "current # 3\n",
      "current # 4\n",
      "current # 5\n",
      "current # 6\n"
     ]
    }
   ],
   "source": [
    "l1: list[int] = [1,2,3,4,5,6]\n",
    "\n",
    "for n in l1:\n",
    "    print(f'current # {n}')"
   ]
  },
  {
   "cell_type": "code",
   "execution_count": 4,
   "metadata": {},
   "outputs": [
    {
     "name": "stdout",
     "output_type": "stream",
     "text": [
      "current number :1\n",
      "current number :2\n",
      "current number :3\n",
      "current number :4\n",
      "current number :5\n",
      "current number :6\n"
     ]
    }
   ],
   "source": [
    "l1 : tuple[int] = (1,2,3,4,5,6)\n",
    "\n",
    "for n in l1:\n",
    "    print(f\"current number :{n}\")"
   ]
  },
  {
   "cell_type": "code",
   "execution_count": 5,
   "metadata": {},
   "outputs": [
    {
     "name": "stdout",
     "output_type": "stream",
     "text": [
      "current character :P\n",
      "current character :a\n",
      "current character :k\n",
      "current character :i\n",
      "current character :s\n",
      "current character :t\n",
      "current character :a\n",
      "current character :n\n"
     ]
    }
   ],
   "source": [
    "l1 : str = \"Pakistan\"\n",
    "\n",
    "for c in l1:\n",
    "    print(f\"current character :{c}\")"
   ]
  },
  {
   "cell_type": "code",
   "execution_count": 7,
   "metadata": {},
   "outputs": [
    {
     "name": "stdout",
     "output_type": "stream",
     "text": [
      "dictionary key: name and value is Muhammad Qasim\n",
      "dictionary key: fname and value is Muhammad Aslam\n"
     ]
    }
   ],
   "source": [
    "#           iteration perform on keys\n",
    "l1 : dict[str,str] = {\"name\":\"Muhammad Qasim\",\"fname\":\"Muhammad Aslam\"}\n",
    "\n",
    "for c in l1:\n",
    "    print(f\"dictionary key: {c} and value is {l1[c]}\")"
   ]
  },
  {
   "cell_type": "markdown",
   "metadata": {},
   "source": [
    "### We can directly perform iteration on set data type"
   ]
  },
  {
   "cell_type": "code",
   "execution_count": 8,
   "metadata": {},
   "outputs": [
    {
     "name": "stdout",
     "output_type": "stream",
     "text": [
      "set item is  1 \n",
      "set item is  2 \n",
      "set item is  3 \n",
      "set item is  4 \n"
     ]
    }
   ],
   "source": [
    "#           iteration perform on keys\n",
    "l1 : set[int] = {1,2,3,4,1,1,1,1}\n",
    "\n",
    "for k in l1:\n",
    "    print(f\"set item is  {k} \")"
   ]
  },
  {
   "cell_type": "markdown",
   "metadata": {},
   "source": [
    "### Also apply iteration on set with type casting in list"
   ]
  },
  {
   "cell_type": "code",
   "execution_count": 9,
   "metadata": {},
   "outputs": [
    {
     "name": "stdout",
     "output_type": "stream",
     "text": [
      "value from list of set : 1 \n",
      "value from list of set : 2 \n",
      "value from list of set : 3 \n",
      "value from list of set : 4 \n"
     ]
    }
   ],
   "source": [
    "l1 : list[set[int]] = list({1,2,3,4,1,1,1,1})\n",
    "\n",
    "for k in l1:\n",
    "    print(f\"value from list of set : {k} \")"
   ]
  },
  {
   "cell_type": "markdown",
   "metadata": {},
   "source": [
    "# input from user\n",
    "* input function\n",
    "    * default type = string\n",
    "* sys.argv (for console input in abc.py file)\n",
    "    * default type = object"
   ]
  }
 ],
 "metadata": {
  "kernelspec": {
   "display_name": "python12",
   "language": "python",
   "name": "python3"
  },
  "language_info": {
   "codemirror_mode": {
    "name": "ipython",
    "version": 3
   },
   "file_extension": ".py",
   "mimetype": "text/x-python",
   "name": "python",
   "nbconvert_exporter": "python",
   "pygments_lexer": "ipython3",
   "version": "3.12.0"
  }
 },
 "nbformat": 4,
 "nbformat_minor": 2
}
